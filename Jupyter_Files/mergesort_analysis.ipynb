{
 "cells": [
  {
   "cell_type": "code",
   "execution_count": 6,
   "metadata": {},
   "outputs": [],
   "source": [
    "import sys\n",
    "sys.path.append(\"/scratch/group/csce435-f24/python-3.10.4/lib/python3.10/site-packages\")\n",
    "sys.path.append(\"/scratch/group/csce435-f24/thicket\")\n",
    "from glob import glob"
   ]
  },
  {
   "cell_type": "code",
   "execution_count": 7,
   "metadata": {},
   "outputs": [],
   "source": [
    "import matplotlib.pyplot as plt\n",
    "import pandas as pd\n",
    "import thicket as th\n",
    "\n",
    "from copy import deepcopy\n",
    "from glob import glob\n",
    "\n",
    "pd.set_option(\"display.max_rows\", None)\n",
    "pd.set_option(\"display.max_columns\", None)"
   ]
  },
  {
   "cell_type": "markdown",
   "metadata": {},
   "source": [
    "Read all files"
   ]
  },
  {
   "cell_type": "code",
   "execution_count": 8,
   "metadata": {},
   "outputs": [
    {
     "name": "stderr",
     "output_type": "stream",
     "text": [
      "(1/2) Reading Files: 100%|██████████| 1/1 [00:00<00:00, 29.72it/s]\n",
      "0it [00:00, ?it/s]\n"
     ]
    }
   ],
   "source": [
    "#1_trial is a name of a folder containing the cali files, you may create a folder with a different name and replace the folder name here\n",
    "tk = th.Thicket.from_caliperreader(glob(\"Project/*.cali\"))"
   ]
  },
  {
   "cell_type": "markdown",
   "metadata": {},
   "source": [
    "View Data"
   ]
  },
  {
   "cell_type": "code",
   "execution_count": 9,
   "metadata": {
    "scrolled": true
   },
   "outputs": [
    {
     "data": {
      "text/html": [
       "<div>\n",
       "<style scoped>\n",
       "    .dataframe tbody tr th:only-of-type {\n",
       "        vertical-align: middle;\n",
       "    }\n",
       "\n",
       "    .dataframe tbody tr th {\n",
       "        vertical-align: top;\n",
       "    }\n",
       "\n",
       "    .dataframe thead th {\n",
       "        text-align: right;\n",
       "    }\n",
       "</style>\n",
       "<table border=\"1\" class=\"dataframe\">\n",
       "  <thead>\n",
       "    <tr style=\"text-align: right;\">\n",
       "      <th></th>\n",
       "      <th>cali.caliper.version</th>\n",
       "      <th>mpi.world.size</th>\n",
       "      <th>spot.metrics</th>\n",
       "      <th>spot.timeseries.metrics</th>\n",
       "      <th>spot.format.version</th>\n",
       "      <th>spot.options</th>\n",
       "      <th>spot.channels</th>\n",
       "      <th>cali.channel</th>\n",
       "      <th>spot:node.order</th>\n",
       "      <th>spot:output</th>\n",
       "      <th>spot:profile.mpi</th>\n",
       "      <th>spot:region.count</th>\n",
       "      <th>spot:time.exclusive</th>\n",
       "      <th>spot:time.variance</th>\n",
       "      <th>launchdate</th>\n",
       "      <th>libraries</th>\n",
       "      <th>cmdline</th>\n",
       "      <th>cluster</th>\n",
       "      <th>algorithm</th>\n",
       "      <th>programming_model</th>\n",
       "      <th>data_type</th>\n",
       "      <th>size_of_data_type</th>\n",
       "      <th>input_size</th>\n",
       "      <th>input_type</th>\n",
       "      <th>num_procs</th>\n",
       "      <th>scalability</th>\n",
       "      <th>group_num</th>\n",
       "      <th>implementation_source</th>\n",
       "    </tr>\n",
       "    <tr>\n",
       "      <th>profile</th>\n",
       "      <th></th>\n",
       "      <th></th>\n",
       "      <th></th>\n",
       "      <th></th>\n",
       "      <th></th>\n",
       "      <th></th>\n",
       "      <th></th>\n",
       "      <th></th>\n",
       "      <th></th>\n",
       "      <th></th>\n",
       "      <th></th>\n",
       "      <th></th>\n",
       "      <th></th>\n",
       "      <th></th>\n",
       "      <th></th>\n",
       "      <th></th>\n",
       "      <th></th>\n",
       "      <th></th>\n",
       "      <th></th>\n",
       "      <th></th>\n",
       "      <th></th>\n",
       "      <th></th>\n",
       "      <th></th>\n",
       "      <th></th>\n",
       "      <th></th>\n",
       "      <th></th>\n",
       "      <th></th>\n",
       "      <th></th>\n",
       "    </tr>\n",
       "  </thead>\n",
       "  <tbody>\n",
       "    <tr>\n",
       "      <th>2675912905</th>\n",
       "      <td>2.11.0</td>\n",
       "      <td>4</td>\n",
       "      <td>min#inclusive#sum#time.duration,max#inclusive#...</td>\n",
       "      <td></td>\n",
       "      <td>2</td>\n",
       "      <td>time.variance,profile.mpi,node.order,region.co...</td>\n",
       "      <td>regionprofile</td>\n",
       "      <td>spot</td>\n",
       "      <td>true</td>\n",
       "      <td>merge-p4-a16.cali</td>\n",
       "      <td>true</td>\n",
       "      <td>true</td>\n",
       "      <td>true</td>\n",
       "      <td>true</td>\n",
       "      <td>1729112159</td>\n",
       "      <td>[/scratch/group/csce435-f24/Caliper/caliper/li...</td>\n",
       "      <td>[./main, 16, random, merge]</td>\n",
       "      <td>c</td>\n",
       "      <td>merge</td>\n",
       "      <td>mpi</td>\n",
       "      <td>unsigned int</td>\n",
       "      <td>4</td>\n",
       "      <td>65536</td>\n",
       "      <td>random</td>\n",
       "      <td>4</td>\n",
       "      <td>strong</td>\n",
       "      <td>25</td>\n",
       "      <td>online</td>\n",
       "    </tr>\n",
       "  </tbody>\n",
       "</table>\n",
       "</div>"
      ],
      "text/plain": [
       "           cali.caliper.version  mpi.world.size  \\\n",
       "profile                                           \n",
       "2675912905               2.11.0               4   \n",
       "\n",
       "                                                 spot.metrics  \\\n",
       "profile                                                         \n",
       "2675912905  min#inclusive#sum#time.duration,max#inclusive#...   \n",
       "\n",
       "           spot.timeseries.metrics  spot.format.version  \\\n",
       "profile                                                   \n",
       "2675912905                                            2   \n",
       "\n",
       "                                                 spot.options  spot.channels  \\\n",
       "profile                                                                        \n",
       "2675912905  time.variance,profile.mpi,node.order,region.co...  regionprofile   \n",
       "\n",
       "           cali.channel spot:node.order        spot:output spot:profile.mpi  \\\n",
       "profile                                                                       \n",
       "2675912905         spot            true  merge-p4-a16.cali             true   \n",
       "\n",
       "           spot:region.count spot:time.exclusive spot:time.variance  \\\n",
       "profile                                                               \n",
       "2675912905              true                true               true   \n",
       "\n",
       "            launchdate                                          libraries  \\\n",
       "profile                                                                     \n",
       "2675912905  1729112159  [/scratch/group/csce435-f24/Caliper/caliper/li...   \n",
       "\n",
       "                                cmdline cluster algorithm programming_model  \\\n",
       "profile                                                                       \n",
       "2675912905  [./main, 16, random, merge]       c     merge               mpi   \n",
       "\n",
       "               data_type  size_of_data_type  input_size input_type  num_procs  \\\n",
       "profile                                                                         \n",
       "2675912905  unsigned int                  4       65536     random          4   \n",
       "\n",
       "           scalability  group_num implementation_source  \n",
       "profile                                                  \n",
       "2675912905      strong         25                online  "
      ]
     },
     "metadata": {},
     "output_type": "display_data"
    }
   ],
   "source": [
    "display(tk.metadata)"
   ]
  },
  {
   "cell_type": "code",
   "execution_count": 10,
   "metadata": {},
   "outputs": [
    {
     "name": "stdout",
     "output_type": "stream",
     "text": [
      "  _____ _     _      _        _   \n",
      " |_   _| |__ (_) ___| | _____| |_ \n",
      "   | | | '_ \\| |/ __| |/ / _ \\ __|\n",
      "   | | | | | | | (__|   <  __/ |_ \n",
      "   |_| |_| |_|_|\\___|_|\\_\\___|\\__|  v2024.1.0\n",
      "\n",
      "\u001b[38;5;196m0.624\u001b[0m main\u001b[0m\n",
      "├─ \u001b[38;5;22m0.000\u001b[0m MPI_Init\u001b[0m\n",
      "├─ \u001b[38;5;34m0.079\u001b[0m main\u001b[0m\n",
      "│  ├─ \u001b[38;5;22m0.003\u001b[0m data_init_runtime\u001b[0m\n",
      "│  ├─ \u001b[38;5;22m0.006\u001b[0m comp\u001b[0m\n",
      "│  │  ├─ \u001b[38;5;22m0.005\u001b[0m comp_small\u001b[0m\n",
      "│  │  └─ \u001b[38;5;22m0.002\u001b[0m comp_large\u001b[0m\n",
      "│  ├─ \u001b[38;5;22m0.049\u001b[0m comm\u001b[0m\n",
      "│  │  ├─ \u001b[38;5;22m0.049\u001b[0m comm_small\u001b[0m\n",
      "│  │  │  ├─ \u001b[38;5;22m0.008\u001b[0m MPI_Recv\u001b[0m\n",
      "│  │  │  ├─ \u001b[38;5;22m0.000\u001b[0m MPI_Send\u001b[0m\n",
      "│  │  │  ├─ \u001b[38;5;22m0.045\u001b[0m MPI_Barrier\u001b[0m\n",
      "│  │  │  └─ \u001b[38;5;22m0.000\u001b[0m MPI_Bcast\u001b[0m\n",
      "│  │  └─ \u001b[38;5;22m0.000\u001b[0m comm_large\u001b[0m\n",
      "│  │     ├─ \u001b[38;5;22m0.000\u001b[0m MPI_Recv\u001b[0m\n",
      "│  │     ├─ \u001b[38;5;22m0.000\u001b[0m MPI_Send\u001b[0m\n",
      "│  │     └─ \u001b[38;5;22m0.000\u001b[0m MPI_Scatterv\u001b[0m\n",
      "│  └─ \u001b[38;5;22m0.020\u001b[0m correctness_check\u001b[0m\n",
      "│     ├─ \u001b[38;5;22m0.003\u001b[0m MPI_Recv\u001b[0m\n",
      "│     ├─ \u001b[38;5;22m0.000\u001b[0m MPI_Send\u001b[0m\n",
      "│     ├─ \u001b[38;5;22m0.017\u001b[0m MPI_Reduce\u001b[0m\n",
      "│     └─ \u001b[38;5;22m0.000\u001b[0m MPI_Bcast\u001b[0m\n",
      "├─ \u001b[38;5;22m0.000\u001b[0m MPI_Finalize\u001b[0m\n",
      "├─ \u001b[38;5;22m0.000\u001b[0m MPI_Initialized\u001b[0m\n",
      "├─ \u001b[38;5;22m0.000\u001b[0m MPI_Finalized\u001b[0m\n",
      "└─ \u001b[38;5;22m0.020\u001b[0m MPI_Comm_dup\u001b[0m\n",
      "\n",
      "\u001b[4mLegend\u001b[0m (Metric: Avg time/rank Min: 0.00 Max: 0.62 indices: {'profile': 2675912905})\n",
      "\u001b[38;5;196m█ \u001b[0m0.56 - 0.62\n",
      "\u001b[38;5;208m█ \u001b[0m0.44 - 0.56\n",
      "\u001b[38;5;220m█ \u001b[0m0.31 - 0.44\n",
      "\u001b[38;5;46m█ \u001b[0m0.19 - 0.31\n",
      "\u001b[38;5;34m█ \u001b[0m0.06 - 0.19\n",
      "\u001b[38;5;22m█ \u001b[0m0.00 - 0.06\n",
      "\n",
      "name\u001b[0m User code    \u001b[38;5;160m◀ \u001b[0m Only in left graph    \u001b[38;5;28m▶ \u001b[0m Only in right graph\n",
      "\n"
     ]
    }
   ],
   "source": [
    "print(tk.tree(metric_column=\"Avg time/rank\"))"
   ]
  },
  {
   "cell_type": "markdown",
   "metadata": {},
   "source": [
    "Group Performance data by `matrix_size` in the Thicket metadata table."
   ]
  }
 ],
 "metadata": {
  "kernelspec": {
   "display_name": "Python 3 (ipykernel)",
   "language": "python",
   "name": "python3"
  },
  "language_info": {
   "codemirror_mode": {
    "name": "ipython",
    "version": 3
   },
   "file_extension": ".py",
   "mimetype": "text/x-python",
   "name": "python",
   "nbconvert_exporter": "python",
   "pygments_lexer": "ipython3",
   "version": "3.10.4"
  }
 },
 "nbformat": 4,
 "nbformat_minor": 4
}
