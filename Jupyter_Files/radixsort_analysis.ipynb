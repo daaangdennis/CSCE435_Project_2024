{
 "cells": [
  {
   "cell_type": "code",
   "execution_count": 9,
   "metadata": {},
   "outputs": [
    {
     "ename": "ImportError",
     "evalue": "cannot import name 'Thicket' from 'thicket' (/home/rake/.local/lib/python3.10/site-packages/thicket/__init__.py)",
     "output_type": "error",
     "traceback": [
      "\u001b[0;31m---------------------------------------------------------------------------\u001b[0m",
      "\u001b[0;31mImportError\u001b[0m                               Traceback (most recent call last)",
      "Cell \u001b[0;32mIn [9], line 4\u001b[0m\n\u001b[1;32m      2\u001b[0m sys\u001b[38;5;241m.\u001b[39mpath\u001b[38;5;241m.\u001b[39mappend(\u001b[38;5;124m\"\u001b[39m\u001b[38;5;124m/scratch/group/csce435-f24/python-3.10.4/lib/python3.10/site-packages\u001b[39m\u001b[38;5;124m\"\u001b[39m)\n\u001b[1;32m      3\u001b[0m sys\u001b[38;5;241m.\u001b[39mpath\u001b[38;5;241m.\u001b[39mappend(\u001b[38;5;124m\"\u001b[39m\u001b[38;5;124m/scratch/group/csce435-f24/thicket\u001b[39m\u001b[38;5;124m\"\u001b[39m)\n\u001b[0;32m----> 4\u001b[0m \u001b[38;5;28;01mfrom\u001b[39;00m \u001b[38;5;21;01mthicket\u001b[39;00m \u001b[38;5;28;01mimport\u001b[39;00m Thicket\n\u001b[1;32m      5\u001b[0m \u001b[38;5;28;01mimport\u001b[39;00m \u001b[38;5;21;01mmatplotlib\u001b[39;00m\u001b[38;5;21;01m.\u001b[39;00m\u001b[38;5;21;01mpyplot\u001b[39;00m \u001b[38;5;28;01mas\u001b[39;00m \u001b[38;5;21;01mplt\u001b[39;00m\n\u001b[1;32m      6\u001b[0m \u001b[38;5;28;01mimport\u001b[39;00m \u001b[38;5;21;01mpandas\u001b[39;00m \u001b[38;5;28;01mas\u001b[39;00m \u001b[38;5;21;01mpd\u001b[39;00m\n",
      "\u001b[0;31mImportError\u001b[0m: cannot import name 'Thicket' from 'thicket' (/home/rake/.local/lib/python3.10/site-packages/thicket/__init__.py)"
     ]
    }
   ],
   "source": [
    "import sys\n",
    "sys.path.append(\"/scratch/group/csce435-f24/python-3.10.4/lib/python3.10/site-packages\")\n",
    "sys.path.append(\"/scratch/group/csce435-f24/thicket\")\n",
    "from thicket import Thicket\n",
    "import matplotlib.pyplot as plt\n",
    "import pandas as pd\n",
    "import thicket as th\n",
    "\n",
    "from copy import deepcopy\n",
    "from glob import glob\n",
    "\n",
    "pd.set_option(\"display.max_rows\", None)\n",
    "pd.set_option(\"display.max_columns\", None)"
   ]
  },
  {
   "cell_type": "markdown",
   "metadata": {},
   "source": [
    "Read all files"
   ]
  },
  {
   "cell_type": "code",
   "execution_count": 8,
   "metadata": {},
   "outputs": [
    {
     "ename": "AttributeError",
     "evalue": "module 'thicket' has no attribute 'Thicket'",
     "output_type": "error",
     "traceback": [
      "\u001b[0;31m---------------------------------------------------------------------------\u001b[0m",
      "\u001b[0;31mAttributeError\u001b[0m                            Traceback (most recent call last)",
      "Cell \u001b[0;32mIn [8], line 2\u001b[0m\n\u001b[1;32m      1\u001b[0m \u001b[38;5;66;03m#1_trial is a name of a folder containing the cali files, you may create a folder with a different name and replace the folder name here\u001b[39;00m\n\u001b[0;32m----> 2\u001b[0m tk \u001b[38;5;241m=\u001b[39m \u001b[43mth\u001b[49m\u001b[38;5;241;43m.\u001b[39;49m\u001b[43mThicket\u001b[49m\u001b[38;5;241m.\u001b[39mfrom_caliperreader(glob(\u001b[38;5;124m\"\u001b[39m\u001b[38;5;124m../Cali_Files/radix-p4-a16.cali\u001b[39m\u001b[38;5;124m\"\u001b[39m))\n",
      "\u001b[0;31mAttributeError\u001b[0m: module 'thicket' has no attribute 'Thicket'"
     ]
    }
   ],
   "source": [
    "#1_trial is a name of a folder containing the cali files, you may create a folder with a different name and replace the folder name here\n",
    "tk = th.Thicket.from_caliperreader(glob(\"../Cali_Files/radix-p4-a16.cali\"))"
   ]
  },
  {
   "cell_type": "markdown",
   "metadata": {},
   "source": [
    "View Data"
   ]
  },
  {
   "cell_type": "code",
   "execution_count": 28,
   "metadata": {},
   "outputs": [
    {
     "data": {
      "text/html": [
       "<div>\n",
       "<style scoped>\n",
       "    .dataframe tbody tr th:only-of-type {\n",
       "        vertical-align: middle;\n",
       "    }\n",
       "\n",
       "    .dataframe tbody tr th {\n",
       "        vertical-align: top;\n",
       "    }\n",
       "\n",
       "    .dataframe thead th {\n",
       "        text-align: right;\n",
       "    }\n",
       "</style>\n",
       "<table border=\"1\" class=\"dataframe\">\n",
       "  <thead>\n",
       "    <tr style=\"text-align: right;\">\n",
       "      <th></th>\n",
       "      <th>cali.caliper.version</th>\n",
       "      <th>mpi.world.size</th>\n",
       "      <th>spot.metrics</th>\n",
       "      <th>spot.timeseries.metrics</th>\n",
       "      <th>spot.format.version</th>\n",
       "      <th>spot.options</th>\n",
       "      <th>spot.channels</th>\n",
       "      <th>cali.channel</th>\n",
       "      <th>spot:node.order</th>\n",
       "      <th>spot:output</th>\n",
       "      <th>spot:profile.mpi</th>\n",
       "      <th>spot:region.count</th>\n",
       "      <th>spot:time.exclusive</th>\n",
       "      <th>spot:time.variance</th>\n",
       "      <th>launchdate</th>\n",
       "      <th>libraries</th>\n",
       "      <th>cmdline</th>\n",
       "      <th>cluster</th>\n",
       "      <th>algorithm</th>\n",
       "      <th>programming_model</th>\n",
       "      <th>data_type</th>\n",
       "      <th>size_of_data_type</th>\n",
       "      <th>input_size</th>\n",
       "      <th>input_type</th>\n",
       "      <th>num_procs</th>\n",
       "      <th>scalability</th>\n",
       "      <th>group_num</th>\n",
       "      <th>implementation_source</th>\n",
       "    </tr>\n",
       "    <tr>\n",
       "      <th>profile</th>\n",
       "      <th></th>\n",
       "      <th></th>\n",
       "      <th></th>\n",
       "      <th></th>\n",
       "      <th></th>\n",
       "      <th></th>\n",
       "      <th></th>\n",
       "      <th></th>\n",
       "      <th></th>\n",
       "      <th></th>\n",
       "      <th></th>\n",
       "      <th></th>\n",
       "      <th></th>\n",
       "      <th></th>\n",
       "      <th></th>\n",
       "      <th></th>\n",
       "      <th></th>\n",
       "      <th></th>\n",
       "      <th></th>\n",
       "      <th></th>\n",
       "      <th></th>\n",
       "      <th></th>\n",
       "      <th></th>\n",
       "      <th></th>\n",
       "      <th></th>\n",
       "      <th></th>\n",
       "      <th></th>\n",
       "      <th></th>\n",
       "    </tr>\n",
       "  </thead>\n",
       "  <tbody>\n",
       "    <tr>\n",
       "      <th>2758730513</th>\n",
       "      <td>2.11.0</td>\n",
       "      <td>3</td>\n",
       "      <td>min#inclusive#sum#time.duration,max#inclusive#...</td>\n",
       "      <td></td>\n",
       "      <td>2</td>\n",
       "      <td>time.variance,profile.mpi,node.order,region.co...</td>\n",
       "      <td>regionprofile</td>\n",
       "      <td>spot</td>\n",
       "      <td>true</td>\n",
       "      <td>p3-a128.cali</td>\n",
       "      <td>true</td>\n",
       "      <td>true</td>\n",
       "      <td>true</td>\n",
       "      <td>true</td>\n",
       "      <td>1728923756</td>\n",
       "      <td>[/scratch/group/csce435-f24/Caliper/caliper/li...</td>\n",
       "      <td>[./test_samplesort]</td>\n",
       "      <td>c</td>\n",
       "      <td>samplesort</td>\n",
       "      <td>mpi</td>\n",
       "      <td>unsigned int</td>\n",
       "      <td>4</td>\n",
       "      <td>65536</td>\n",
       "      <td>Sorted</td>\n",
       "      <td>3</td>\n",
       "      <td>weak</td>\n",
       "      <td>25</td>\n",
       "      <td>handwritten</td>\n",
       "    </tr>\n",
       "  </tbody>\n",
       "</table>\n",
       "</div>"
      ],
      "text/plain": [
       "           cali.caliper.version  mpi.world.size  \\\n",
       "profile                                           \n",
       "2758730513               2.11.0               3   \n",
       "\n",
       "                                                 spot.metrics  \\\n",
       "profile                                                         \n",
       "2758730513  min#inclusive#sum#time.duration,max#inclusive#...   \n",
       "\n",
       "           spot.timeseries.metrics  spot.format.version  \\\n",
       "profile                                                   \n",
       "2758730513                                            2   \n",
       "\n",
       "                                                 spot.options  spot.channels  \\\n",
       "profile                                                                        \n",
       "2758730513  time.variance,profile.mpi,node.order,region.co...  regionprofile   \n",
       "\n",
       "           cali.channel spot:node.order   spot:output spot:profile.mpi  \\\n",
       "profile                                                                  \n",
       "2758730513         spot            true  p3-a128.cali             true   \n",
       "\n",
       "           spot:region.count spot:time.exclusive spot:time.variance  \\\n",
       "profile                                                               \n",
       "2758730513              true                true               true   \n",
       "\n",
       "            launchdate                                          libraries  \\\n",
       "profile                                                                     \n",
       "2758730513  1728923756  [/scratch/group/csce435-f24/Caliper/caliper/li...   \n",
       "\n",
       "                        cmdline cluster   algorithm programming_model  \\\n",
       "profile                                                                 \n",
       "2758730513  [./test_samplesort]       c  samplesort               mpi   \n",
       "\n",
       "               data_type  size_of_data_type  input_size input_type  num_procs  \\\n",
       "profile                                                                         \n",
       "2758730513  unsigned int                  4       65536     Sorted          3   \n",
       "\n",
       "           scalability  group_num implementation_source  \n",
       "profile                                                  \n",
       "2758730513        weak         25           handwritten  "
      ]
     },
     "metadata": {},
     "output_type": "display_data"
    }
   ],
   "source": [
    "display(tk.metadata)"
   ]
  },
  {
   "cell_type": "code",
   "execution_count": 29,
   "metadata": {},
   "outputs": [
    {
     "name": "stdout",
     "output_type": "stream",
     "text": [
      "  _____ _     _      _        _   \n",
      " |_   _| |__ (_) ___| | _____| |_ \n",
      "   | | | '_ \\| |/ __| |/ / _ \\ __|\n",
      "   | | | | | | | (__|   <  __/ |_ \n",
      "   |_| |_| |_|_|\\___|_|\\_\\___|\\__|  v2024.1.0\n",
      "\n",
      "\u001b[38;5;196m0.027\u001b[0m main\u001b[0m\n",
      "├─ \u001b[38;5;22m0.000\u001b[0m MPI_Comm_dup\u001b[0m\n",
      "├─ \u001b[38;5;22m0.000\u001b[0m MPI_Finalize\u001b[0m\n",
      "├─ \u001b[38;5;22m0.000\u001b[0m MPI_Finalized\u001b[0m\n",
      "├─ \u001b[38;5;22m0.000\u001b[0m MPI_Initialized\u001b[0m\n",
      "├─ \u001b[38;5;22m0.001\u001b[0m correctness_check\u001b[0m\n",
      "│  ├─ \u001b[38;5;22m0.000\u001b[0m MPI_Bcast\u001b[0m\n",
      "│  ├─ \u001b[38;5;22m0.000\u001b[0m MPI_Recv\u001b[0m\n",
      "│  ├─ \u001b[38;5;22m0.000\u001b[0m MPI_Reduce\u001b[0m\n",
      "│  └─ \u001b[38;5;22m0.000\u001b[0m MPI_Send\u001b[0m\n",
      "├─ \u001b[38;5;22m0.001\u001b[0m data_init_runtime\u001b[0m\n",
      "└─ \u001b[38;5;208m0.020\u001b[0m sort_runtime\u001b[0m\n",
      "   ├─ \u001b[38;5;22m0.000\u001b[0m MPI_Barrier\u001b[0m\n",
      "   ├─ \u001b[38;5;46m0.011\u001b[0m comm\u001b[0m\n",
      "   │  ├─ \u001b[38;5;34m0.004\u001b[0m comm_bcast_pivots\u001b[0m\n",
      "   │  │  └─ \u001b[38;5;34m0.004\u001b[0m MPI_Bcast\u001b[0m\n",
      "   │  ├─ \u001b[38;5;34m0.006\u001b[0m comm_exchange_buckets\u001b[0m\n",
      "   │  │  ├─ \u001b[38;5;22m0.003\u001b[0m MPI_Gather\u001b[0m\n",
      "   │  │  └─ \u001b[38;5;34m0.003\u001b[0m MPI_Gatherv\u001b[0m\n",
      "   │  └─ \u001b[38;5;22m0.001\u001b[0m comm_gather_sample\u001b[0m\n",
      "   │     └─ \u001b[38;5;22m0.001\u001b[0m MPI_Gather\u001b[0m\n",
      "   └─ \u001b[38;5;46m0.009\u001b[0m comp\u001b[0m\n",
      "      ├─ \u001b[38;5;22m0.000\u001b[0m comp_determine_pivots\u001b[0m\n",
      "      ├─ \u001b[38;5;34m0.005\u001b[0m comp_local_to_buckets\u001b[0m\n",
      "      ├─ \u001b[38;5;22m0.000\u001b[0m comp_sampling_local\u001b[0m\n",
      "      └─ \u001b[38;5;34m0.005\u001b[0m comp_sort_recv_buf\u001b[0m\n",
      "\n",
      "\u001b[4mLegend\u001b[0m (Metric: Avg time/rank Min: 0.00 Max: 0.03 indices: {'profile': 2758730513})\n",
      "\u001b[38;5;196m█ \u001b[0m0.02 - 0.03\n",
      "\u001b[38;5;208m█ \u001b[0m0.02 - 0.02\n",
      "\u001b[38;5;220m█ \u001b[0m0.01 - 0.02\n",
      "\u001b[38;5;46m█ \u001b[0m0.01 - 0.01\n",
      "\u001b[38;5;34m█ \u001b[0m0.00 - 0.01\n",
      "\u001b[38;5;22m█ \u001b[0m0.00 - 0.00\n",
      "\n",
      "name\u001b[0m User code    \u001b[38;5;160m◀ \u001b[0m Only in left graph    \u001b[38;5;28m▶ \u001b[0m Only in right graph\n",
      "\n"
     ]
    }
   ],
   "source": [
    "print(tk.tree(metric_column=\"Avg time/rank\"))"
   ]
  }
 ],
 "metadata": {
  "kernelspec": {
   "display_name": "Python 3 (ipykernel)",
   "language": "python",
   "name": "python3"
  },
  "language_info": {
   "codemirror_mode": {
    "name": "ipython",
    "version": 3
   },
   "file_extension": ".py",
   "mimetype": "text/x-python",
   "name": "python",
   "nbconvert_exporter": "python",
   "pygments_lexer": "ipython3",
   "version": "3.10.4"
  }
 },
 "nbformat": 4,
 "nbformat_minor": 4
}
